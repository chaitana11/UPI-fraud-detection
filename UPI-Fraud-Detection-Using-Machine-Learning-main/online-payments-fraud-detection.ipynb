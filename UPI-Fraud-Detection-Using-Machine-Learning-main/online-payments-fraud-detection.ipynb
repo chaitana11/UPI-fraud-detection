{
 "cells": [
  {
   "cell_type": "code",
   "execution_count": null,
   "metadata": {
    "_cell_guid": "b1076dfc-b9ad-4769-8c92-a6c4dae69d19",
    "_uuid": "8f2839f25d086af736a60e9eeb907d3b93b6e0e5",
    "execution": {
     "iopub.execute_input": "2025-04-10T07:18:05.857658Z",
     "iopub.status.busy": "2025-04-10T07:18:05.857254Z",
     "iopub.status.idle": "2025-04-10T07:18:07.162629Z",
     "shell.execute_reply": "2025-04-10T07:18:07.161165Z",
     "shell.execute_reply.started": "2025-04-10T07:18:05.857611Z"
    },
    "trusted": true
   },
   "outputs": [
    {
     "ename": "",
     "evalue": "",
     "output_type": "error",
     "traceback": [
      "\u001b[1;31mRunning cells with 'venv (Python 3.13.2)' requires the ipykernel package.\n",
      "\u001b[1;31mInstall 'ipykernel' into the Python environment. \n",
      "\u001b[1;31mCommand: 'e:/Desktop/upi_phase02/UPI-Fraud-Detection-Using-Machine-Learning-main/venv/Scripts/python.exe -m pip install ipykernel -U --force-reinstall'"
     ]
    }
   ],
   "source": [
    "# This Python 3 environment comes with many helpful analytics libraries installed\n",
    "# It is defined by the kaggle/python Docker image: https://github.com/kaggle/docker-python\n",
    "# For example, here's several helpful packages to load\n",
    "\n",
    "import numpy as np # linear algebra\n",
    "import pandas as pd # data processing, CSV file I/O (e.g. pd.read_csv)\n",
    "\n",
    "# Input data files are available in the read-only \"../input/\" directory\n",
    "# For example, running this (by clicking run or pressing Shift+Enter) will list all files under the input directory\n",
    "\n",
    "import os\n",
    "for dirname, _, filenames in os.walk('/kaggle/input'):\n",
    "    for filename in filenames:\n",
    "        print(os.path.join(dirname, filename))\n",
    "\n",
    "# You can write up to 20GB to the current directory (/kaggle/working/) that gets preserved as output when you create a version using \"Save & Run All\" \n",
    "# You can also write temporary files to /kaggle/temp/, but they won't be saved outside of the current session"
   ]
  },
  {
   "cell_type": "code",
   "execution_count": 6,
   "metadata": {
    "execution": {
     "iopub.execute_input": "2025-04-10T07:18:07.165708Z",
     "iopub.status.busy": "2025-04-10T07:18:07.165146Z",
     "iopub.status.idle": "2025-04-10T07:18:09.542193Z",
     "shell.execute_reply": "2025-04-10T07:18:09.540832Z",
     "shell.execute_reply.started": "2025-04-10T07:18:07.165671Z"
    },
    "trusted": true
   },
   "outputs": [
    {
     "ename": "ModuleNotFoundError",
     "evalue": "No module named 'pandas'",
     "output_type": "error",
     "traceback": [
      "\u001b[31m---------------------------------------------------------------------------\u001b[39m",
      "\u001b[31mModuleNotFoundError\u001b[39m                       Traceback (most recent call last)",
      "\u001b[36mCell\u001b[39m\u001b[36m \u001b[39m\u001b[32mIn[6]\u001b[39m\u001b[32m, line 1\u001b[39m\n\u001b[32m----> \u001b[39m\u001b[32m1\u001b[39m \u001b[38;5;28;01mimport\u001b[39;00m\u001b[38;5;250m \u001b[39m\u001b[34;01mpandas\u001b[39;00m\u001b[38;5;250m \u001b[39m\u001b[38;5;28;01mas\u001b[39;00m\u001b[38;5;250m \u001b[39m\u001b[34;01mpd\u001b[39;00m\n\u001b[32m      2\u001b[39m \u001b[38;5;28;01mimport\u001b[39;00m\u001b[38;5;250m \u001b[39m\u001b[34;01mwarnings\u001b[39;00m\n\u001b[32m      3\u001b[39m warnings.filterwarnings(\u001b[33m'\u001b[39m\u001b[33mignore\u001b[39m\u001b[33m'\u001b[39m)\n",
      "\u001b[31mModuleNotFoundError\u001b[39m: No module named 'pandas'"
     ]
    }
   ],
   "source": [
    "import pandas as pd\n",
    "import warnings\n",
    "warnings.filterwarnings('ignore')\n",
    "import matplotlib.pyplot as plt \n",
    "import seaborn as sns\n",
    "import xgboost as xgb\n",
    "from sklearn.model_selection import train_test_split \n",
    "from sklearn.metrics import classification_report, roc_auc_score,accuracy_score\n",
    "from sklearn.preprocessing import LabelEncoder"
   ]
  },
  {
   "cell_type": "code",
   "execution_count": null,
   "metadata": {
    "execution": {
     "iopub.execute_input": "2025-04-10T07:18:09.544542Z",
     "iopub.status.busy": "2025-04-10T07:18:09.543878Z",
     "iopub.status.idle": "2025-04-10T07:18:32.862222Z",
     "shell.execute_reply": "2025-04-10T07:18:32.860906Z",
     "shell.execute_reply.started": "2025-04-10T07:18:09.544493Z"
    },
    "trusted": true
   },
   "outputs": [],
   "source": [
    "df = pd.read_csv(\"/kaggle/input/online-payment-fraud-detection/onlinefraud.csv\")\n",
    "df.head()"
   ]
  },
  {
   "cell_type": "code",
   "execution_count": null,
   "metadata": {
    "execution": {
     "iopub.execute_input": "2025-04-10T07:18:32.864147Z",
     "iopub.status.busy": "2025-04-10T07:18:32.863704Z",
     "iopub.status.idle": "2025-04-10T07:18:32.871488Z",
     "shell.execute_reply": "2025-04-10T07:18:32.870248Z",
     "shell.execute_reply.started": "2025-04-10T07:18:32.864110Z"
    },
    "trusted": true
   },
   "outputs": [],
   "source": [
    "df.shape"
   ]
  },
  {
   "cell_type": "code",
   "execution_count": null,
   "metadata": {
    "execution": {
     "iopub.execute_input": "2025-04-10T07:18:32.874488Z",
     "iopub.status.busy": "2025-04-10T07:18:32.873326Z",
     "iopub.status.idle": "2025-04-10T07:18:33.229207Z",
     "shell.execute_reply": "2025-04-10T07:18:33.228065Z",
     "shell.execute_reply.started": "2025-04-10T07:18:32.874446Z"
    },
    "trusted": true
   },
   "outputs": [],
   "source": [
    "df.sample(10)"
   ]
  },
  {
   "cell_type": "code",
   "execution_count": null,
   "metadata": {
    "execution": {
     "iopub.execute_input": "2025-04-10T07:18:33.231149Z",
     "iopub.status.busy": "2025-04-10T07:18:33.230748Z",
     "iopub.status.idle": "2025-04-10T07:18:35.335060Z",
     "shell.execute_reply": "2025-04-10T07:18:35.333831Z",
     "shell.execute_reply.started": "2025-04-10T07:18:33.231107Z"
    },
    "trusted": true
   },
   "outputs": [],
   "source": [
    "df.describe()"
   ]
  },
  {
   "cell_type": "code",
   "execution_count": null,
   "metadata": {
    "execution": {
     "iopub.execute_input": "2025-04-10T07:18:35.339062Z",
     "iopub.status.busy": "2025-04-10T07:18:35.338674Z",
     "iopub.status.idle": "2025-04-10T07:18:35.362898Z",
     "shell.execute_reply": "2025-04-10T07:18:35.361302Z",
     "shell.execute_reply.started": "2025-04-10T07:18:35.339028Z"
    },
    "trusted": true
   },
   "outputs": [],
   "source": [
    "df.info()"
   ]
  },
  {
   "cell_type": "code",
   "execution_count": null,
   "metadata": {
    "execution": {
     "iopub.execute_input": "2025-04-10T07:18:35.364833Z",
     "iopub.status.busy": "2025-04-10T07:18:35.364491Z",
     "iopub.status.idle": "2025-04-10T07:18:35.468275Z",
     "shell.execute_reply": "2025-04-10T07:18:35.466663Z",
     "shell.execute_reply.started": "2025-04-10T07:18:35.364773Z"
    },
    "trusted": true
   },
   "outputs": [],
   "source": [
    "# Feature engineering \n",
    "df['balanceDiffOrig'] = df['oldbalanceOrg'] - df['newbalanceOrig'] \n",
    "df['balanceDiffDest'] = df['newbalanceDest'] - df['oldbalanceDest']"
   ]
  },
  {
   "cell_type": "code",
   "execution_count": null,
   "metadata": {
    "execution": {
     "iopub.execute_input": "2025-04-10T07:18:35.470783Z",
     "iopub.status.busy": "2025-04-10T07:18:35.470422Z",
     "iopub.status.idle": "2025-04-10T07:18:35.491104Z",
     "shell.execute_reply": "2025-04-10T07:18:35.490039Z",
     "shell.execute_reply.started": "2025-04-10T07:18:35.470750Z"
    },
    "trusted": true
   },
   "outputs": [],
   "source": [
    "df.head()"
   ]
  },
  {
   "cell_type": "code",
   "execution_count": null,
   "metadata": {
    "execution": {
     "iopub.execute_input": "2025-04-10T07:18:35.492943Z",
     "iopub.status.busy": "2025-04-10T07:18:35.492566Z",
     "iopub.status.idle": "2025-04-10T07:18:36.017548Z",
     "shell.execute_reply": "2025-04-10T07:18:36.015920Z",
     "shell.execute_reply.started": "2025-04-10T07:18:35.492900Z"
    },
    "trusted": true
   },
   "outputs": [],
   "source": [
    "df['type'].value_counts()"
   ]
  },
  {
   "cell_type": "code",
   "execution_count": null,
   "metadata": {
    "execution": {
     "iopub.execute_input": "2025-04-10T07:18:36.019619Z",
     "iopub.status.busy": "2025-04-10T07:18:36.019184Z",
     "iopub.status.idle": "2025-04-10T07:18:49.041915Z",
     "shell.execute_reply": "2025-04-10T07:18:49.040640Z",
     "shell.execute_reply.started": "2025-04-10T07:18:36.019584Z"
    },
    "trusted": true
   },
   "outputs": [],
   "source": [
    "df['nameOrig'].value_counts()"
   ]
  },
  {
   "cell_type": "code",
   "execution_count": null,
   "metadata": {
    "execution": {
     "iopub.execute_input": "2025-04-10T07:18:49.043416Z",
     "iopub.status.busy": "2025-04-10T07:18:49.043127Z",
     "iopub.status.idle": "2025-04-10T07:18:56.177530Z",
     "shell.execute_reply": "2025-04-10T07:18:56.176393Z",
     "shell.execute_reply.started": "2025-04-10T07:18:49.043387Z"
    },
    "trusted": true
   },
   "outputs": [],
   "source": [
    "df['nameDest'].value_counts()"
   ]
  },
  {
   "cell_type": "code",
   "execution_count": null,
   "metadata": {
    "execution": {
     "iopub.execute_input": "2025-04-10T07:18:56.179153Z",
     "iopub.status.busy": "2025-04-10T07:18:56.178730Z",
     "iopub.status.idle": "2025-04-10T07:18:56.233637Z",
     "shell.execute_reply": "2025-04-10T07:18:56.232232Z",
     "shell.execute_reply.started": "2025-04-10T07:18:56.179117Z"
    },
    "trusted": true
   },
   "outputs": [],
   "source": [
    "df['step'].value_counts()"
   ]
  },
  {
   "cell_type": "code",
   "execution_count": null,
   "metadata": {
    "execution": {
     "iopub.execute_input": "2025-04-10T07:18:56.236021Z",
     "iopub.status.busy": "2025-04-10T07:18:56.235604Z",
     "iopub.status.idle": "2025-04-10T07:18:58.169134Z",
     "shell.execute_reply": "2025-04-10T07:18:58.167906Z",
     "shell.execute_reply.started": "2025-04-10T07:18:56.235984Z"
    },
    "trusted": true
   },
   "outputs": [],
   "source": [
    "df['amount'].value_counts()"
   ]
  },
  {
   "cell_type": "code",
   "execution_count": null,
   "metadata": {
    "execution": {
     "iopub.execute_input": "2025-04-10T07:18:58.170603Z",
     "iopub.status.busy": "2025-04-10T07:18:58.170312Z",
     "iopub.status.idle": "2025-04-10T07:18:58.914679Z",
     "shell.execute_reply": "2025-04-10T07:18:58.913184Z",
     "shell.execute_reply.started": "2025-04-10T07:18:58.170575Z"
    },
    "trusted": true
   },
   "outputs": [],
   "source": [
    "df['oldbalanceOrg'].value_counts()"
   ]
  },
  {
   "cell_type": "code",
   "execution_count": null,
   "metadata": {
    "execution": {
     "iopub.execute_input": "2025-04-10T07:18:58.916501Z",
     "iopub.status.busy": "2025-04-10T07:18:58.916164Z",
     "iopub.status.idle": "2025-04-10T07:18:59.806345Z",
     "shell.execute_reply": "2025-04-10T07:18:59.805190Z",
     "shell.execute_reply.started": "2025-04-10T07:18:58.916469Z"
    },
    "trusted": true
   },
   "outputs": [],
   "source": [
    "df['newbalanceOrig'].value_counts()"
   ]
  },
  {
   "cell_type": "code",
   "execution_count": null,
   "metadata": {
    "execution": {
     "iopub.execute_input": "2025-04-10T07:18:59.807990Z",
     "iopub.status.busy": "2025-04-10T07:18:59.807635Z",
     "iopub.status.idle": "2025-04-10T07:19:01.047250Z",
     "shell.execute_reply": "2025-04-10T07:19:01.045557Z",
     "shell.execute_reply.started": "2025-04-10T07:18:59.807956Z"
    },
    "trusted": true
   },
   "outputs": [],
   "source": [
    "df['oldbalanceDest'].value_counts()"
   ]
  },
  {
   "cell_type": "code",
   "execution_count": null,
   "metadata": {
    "execution": {
     "iopub.execute_input": "2025-04-10T07:19:01.049907Z",
     "iopub.status.busy": "2025-04-10T07:19:01.049388Z",
     "iopub.status.idle": "2025-04-10T07:19:02.247724Z",
     "shell.execute_reply": "2025-04-10T07:19:02.246313Z",
     "shell.execute_reply.started": "2025-04-10T07:19:01.049842Z"
    },
    "trusted": true
   },
   "outputs": [],
   "source": [
    "df['newbalanceDest'].value_counts()"
   ]
  },
  {
   "cell_type": "code",
   "execution_count": 1,
   "metadata": {
    "execution": {
     "iopub.execute_input": "2025-04-10T07:19:02.250662Z",
     "iopub.status.busy": "2025-04-10T07:19:02.250233Z",
     "iopub.status.idle": "2025-04-10T07:19:02.298787Z",
     "shell.execute_reply": "2025-04-10T07:19:02.297336Z",
     "shell.execute_reply.started": "2025-04-10T07:19:02.250625Z"
    },
    "trusted": true
   },
   "outputs": [
    {
     "ename": "NameError",
     "evalue": "name 'df' is not defined",
     "output_type": "error",
     "traceback": [
      "\u001b[31m---------------------------------------------------------------------------\u001b[39m",
      "\u001b[31mNameError\u001b[39m                                 Traceback (most recent call last)",
      "\u001b[36mCell\u001b[39m\u001b[36m \u001b[39m\u001b[32mIn[1]\u001b[39m\u001b[32m, line 1\u001b[39m\n\u001b[32m----> \u001b[39m\u001b[32m1\u001b[39m \u001b[43mdf\u001b[49m[\u001b[33m'\u001b[39m\u001b[33misFraud\u001b[39m\u001b[33m'\u001b[39m].value_counts()\n",
      "\u001b[31mNameError\u001b[39m: name 'df' is not defined"
     ]
    }
   ],
   "source": [
    "df['isFraud'].value_counts()"
   ]
  },
  {
   "cell_type": "code",
   "execution_count": 3,
   "metadata": {
    "execution": {
     "iopub.execute_input": "2025-04-10T07:19:02.300689Z",
     "iopub.status.busy": "2025-04-10T07:19:02.300315Z",
     "iopub.status.idle": "2025-04-10T07:19:02.352696Z",
     "shell.execute_reply": "2025-04-10T07:19:02.351591Z",
     "shell.execute_reply.started": "2025-04-10T07:19:02.300635Z"
    },
    "trusted": true
   },
   "outputs": [
    {
     "ename": "NameError",
     "evalue": "name 'df' is not defined",
     "output_type": "error",
     "traceback": [
      "\u001b[31m---------------------------------------------------------------------------\u001b[39m",
      "\u001b[31mNameError\u001b[39m                                 Traceback (most recent call last)",
      "\u001b[36mCell\u001b[39m\u001b[36m \u001b[39m\u001b[32mIn[3]\u001b[39m\u001b[32m, line 1\u001b[39m\n\u001b[32m----> \u001b[39m\u001b[32m1\u001b[39m \u001b[43mdf\u001b[49m[\u001b[33m'\u001b[39m\u001b[33misFlaggedFraud\u001b[39m\u001b[33m'\u001b[39m].value_counts()\n",
      "\u001b[31mNameError\u001b[39m: name 'df' is not defined"
     ]
    }
   ],
   "source": [
    "df['isFlaggedFraud'].value_counts()"
   ]
  },
  {
   "cell_type": "code",
   "execution_count": 4,
   "metadata": {
    "execution": {
     "iopub.execute_input": "2025-04-10T07:19:02.353977Z",
     "iopub.status.busy": "2025-04-10T07:19:02.353665Z",
     "iopub.status.idle": "2025-04-10T07:19:02.371448Z",
     "shell.execute_reply": "2025-04-10T07:19:02.370394Z",
     "shell.execute_reply.started": "2025-04-10T07:19:02.353946Z"
    },
    "trusted": true
   },
   "outputs": [
    {
     "ename": "NameError",
     "evalue": "name 'df' is not defined",
     "output_type": "error",
     "traceback": [
      "\u001b[31m---------------------------------------------------------------------------\u001b[39m",
      "\u001b[31mNameError\u001b[39m                                 Traceback (most recent call last)",
      "\u001b[36mCell\u001b[39m\u001b[36m \u001b[39m\u001b[32mIn[4]\u001b[39m\u001b[32m, line 1\u001b[39m\n\u001b[32m----> \u001b[39m\u001b[32m1\u001b[39m \u001b[43mdf\u001b[49m[\u001b[33m'\u001b[39m\u001b[33mbalanceDiffOrig\u001b[39m\u001b[33m'\u001b[39m]\n",
      "\u001b[31mNameError\u001b[39m: name 'df' is not defined"
     ]
    }
   ],
   "source": [
    "df['balanceDiffOrig']"
   ]
  },
  {
   "cell_type": "code",
   "execution_count": null,
   "metadata": {
    "execution": {
     "iopub.execute_input": "2025-04-10T07:19:02.378019Z",
     "iopub.status.busy": "2025-04-10T07:19:02.377621Z",
     "iopub.status.idle": "2025-04-10T07:19:02.390128Z",
     "shell.execute_reply": "2025-04-10T07:19:02.388893Z",
     "shell.execute_reply.started": "2025-04-10T07:19:02.377984Z"
    },
    "trusted": true
   },
   "outputs": [],
   "source": [
    "df['balanceDiffDest']"
   ]
  },
  {
   "cell_type": "code",
   "execution_count": 5,
   "metadata": {
    "execution": {
     "iopub.execute_input": "2025-04-10T07:19:02.392132Z",
     "iopub.status.busy": "2025-04-10T07:19:02.391626Z",
     "iopub.status.idle": "2025-04-10T07:19:30.403212Z",
     "shell.execute_reply": "2025-04-10T07:19:30.401630Z",
     "shell.execute_reply.started": "2025-04-10T07:19:02.392055Z"
    },
    "trusted": true
   },
   "outputs": [
    {
     "ename": "NameError",
     "evalue": "name 'plt' is not defined",
     "output_type": "error",
     "traceback": [
      "\u001b[31m---------------------------------------------------------------------------\u001b[39m",
      "\u001b[31mNameError\u001b[39m                                 Traceback (most recent call last)",
      "\u001b[36mCell\u001b[39m\u001b[36m \u001b[39m\u001b[32mIn[5]\u001b[39m\u001b[32m, line 2\u001b[39m\n\u001b[32m      1\u001b[39m \u001b[38;5;66;03m# Distribution of transaction amounts \u001b[39;00m\n\u001b[32m----> \u001b[39m\u001b[32m2\u001b[39m \u001b[43mplt\u001b[49m.figure(figsize=(\u001b[32m10\u001b[39m, \u001b[32m6\u001b[39m)) \n\u001b[32m      3\u001b[39m sns.histplot(df[\u001b[33m'\u001b[39m\u001b[33mamount\u001b[39m\u001b[33m'\u001b[39m], bins=\u001b[32m50\u001b[39m, kde=\u001b[38;5;28;01mTrue\u001b[39;00m) \n\u001b[32m      4\u001b[39m plt.title(\u001b[33m'\u001b[39m\u001b[33mDistribution of Transaction Amounts\u001b[39m\u001b[33m'\u001b[39m) \n",
      "\u001b[31mNameError\u001b[39m: name 'plt' is not defined"
     ]
    }
   ],
   "source": [
    "# Distribution of transaction amounts \n",
    "plt.figure(figsize=(10, 6)) \n",
    "sns.histplot(df['amount'], bins=50, kde=True) \n",
    "plt.title('Distribution of Transaction Amounts') \n",
    "plt.xlabel('Amount') \n",
    "plt.ylabel('Frequency') \n",
    "plt.show()"
   ]
  },
  {
   "cell_type": "code",
   "execution_count": null,
   "metadata": {
    "execution": {
     "iopub.execute_input": "2025-04-10T07:19:30.405159Z",
     "iopub.status.busy": "2025-04-10T07:19:30.404736Z",
     "iopub.status.idle": "2025-04-10T07:19:34.388257Z",
     "shell.execute_reply": "2025-04-10T07:19:34.387055Z",
     "shell.execute_reply.started": "2025-04-10T07:19:30.405123Z"
    },
    "trusted": true
   },
   "outputs": [],
   "source": [
    "# Count of transaction types\n",
    "plt.figure(figsize=(10, 6))\n",
    "sns.countplot(x='type', data=df)\n",
    "plt.title('Count of Transaction Types')\n",
    "plt.xlabel('Transaction Type')\n",
    "plt.ylabel('Count')\n",
    "plt.show()"
   ]
  },
  {
   "cell_type": "code",
   "execution_count": 6,
   "metadata": {
    "execution": {
     "iopub.execute_input": "2025-04-10T07:19:34.390007Z",
     "iopub.status.busy": "2025-04-10T07:19:34.389615Z",
     "iopub.status.idle": "2025-04-10T07:19:36.063778Z",
     "shell.execute_reply": "2025-04-10T07:19:36.062637Z",
     "shell.execute_reply.started": "2025-04-10T07:19:34.389952Z"
    },
    "trusted": true
   },
   "outputs": [
    {
     "ename": "NameError",
     "evalue": "name 'plt' is not defined",
     "output_type": "error",
     "traceback": [
      "\u001b[31m---------------------------------------------------------------------------\u001b[39m",
      "\u001b[31mNameError\u001b[39m                                 Traceback (most recent call last)",
      "\u001b[36mCell\u001b[39m\u001b[36m \u001b[39m\u001b[32mIn[6]\u001b[39m\u001b[32m, line 2\u001b[39m\n\u001b[32m      1\u001b[39m \u001b[38;5;66;03m# Boxplot of transaction amount by fraud status\u001b[39;00m\n\u001b[32m----> \u001b[39m\u001b[32m2\u001b[39m \u001b[43mplt\u001b[49m.figure(figsize=(\u001b[32m10\u001b[39m, \u001b[32m6\u001b[39m))\n\u001b[32m      3\u001b[39m sns.boxplot(x=\u001b[33m'\u001b[39m\u001b[33misFraud\u001b[39m\u001b[33m'\u001b[39m, y=\u001b[33m'\u001b[39m\u001b[33mamount\u001b[39m\u001b[33m'\u001b[39m, data=df)\n\u001b[32m      4\u001b[39m plt.title(\u001b[33m'\u001b[39m\u001b[33mTransaction Amount by Fraud Status\u001b[39m\u001b[33m'\u001b[39m)\n",
      "\u001b[31mNameError\u001b[39m: name 'plt' is not defined"
     ]
    }
   ],
   "source": [
    "# Boxplot of transaction amount by fraud status\n",
    "plt.figure(figsize=(10, 6))\n",
    "sns.boxplot(x='isFraud', y='amount', data=df)\n",
    "plt.title('Transaction Amount by Fraud Status')\n",
    "plt.xlabel('Fraud Status')\n",
    "plt.ylabel('Amount')\n",
    "plt.show()\n"
   ]
  },
  {
   "cell_type": "code",
   "execution_count": 9,
   "metadata": {
    "execution": {
     "iopub.execute_input": "2025-04-10T07:19:36.066060Z",
     "iopub.status.busy": "2025-04-10T07:19:36.065569Z",
     "iopub.status.idle": "2025-04-10T07:22:33.701623Z",
     "shell.execute_reply": "2025-04-10T07:22:33.700266Z",
     "shell.execute_reply.started": "2025-04-10T07:19:36.066009Z"
    },
    "trusted": true
   },
   "outputs": [
    {
     "ename": "NameError",
     "evalue": "name 'plt' is not defined",
     "output_type": "error",
     "traceback": [
      "\u001b[31m---------------------------------------------------------------------------\u001b[39m",
      "\u001b[31mNameError\u001b[39m                                 Traceback (most recent call last)",
      "\u001b[36mCell\u001b[39m\u001b[36m \u001b[39m\u001b[32mIn[9]\u001b[39m\u001b[32m, line 2\u001b[39m\n\u001b[32m      1\u001b[39m \u001b[38;5;66;03m# Scatter plot of old vs new balance for origin \u001b[39;00m\n\u001b[32m----> \u001b[39m\u001b[32m2\u001b[39m \u001b[43mplt\u001b[49m.figure(figsize=(\u001b[32m10\u001b[39m, \u001b[32m6\u001b[39m)) \n\u001b[32m      3\u001b[39m sns.scatterplot(x=\u001b[33m'\u001b[39m\u001b[33moldbalanceOrg\u001b[39m\u001b[33m'\u001b[39m, y=\u001b[33m'\u001b[39m\u001b[33mnewbalanceOrig\u001b[39m\u001b[33m'\u001b[39m, hue=\u001b[33m'\u001b[39m\u001b[33misFraud\u001b[39m\u001b[33m'\u001b[39m, data=df) \n\u001b[32m      4\u001b[39m plt.title(\u001b[33m'\u001b[39m\u001b[33mOld Balance vs. New Balance (Origin)\u001b[39m\u001b[33m'\u001b[39m) \n",
      "\u001b[31mNameError\u001b[39m: name 'plt' is not defined"
     ]
    }
   ],
   "source": [
    "# Scatter plot of old vs new balance for origin \n",
    "plt.figure(figsize=(10, 6)) \n",
    "sns.scatterplot(x='oldbalanceOrg', y='newbalanceOrig', hue='isFraud', data=df) \n",
    "plt.title('Old Balance vs. New Balance (Origin)') \n",
    "plt.xlabel('Old Balance (Origin)') \n",
    "plt.ylabel('New Balance (Origin)') \n",
    "plt.show()"
   ]
  },
  {
   "cell_type": "code",
   "execution_count": 10,
   "metadata": {
    "execution": {
     "iopub.execute_input": "2025-04-10T07:22:33.703899Z",
     "iopub.status.busy": "2025-04-10T07:22:33.703435Z",
     "iopub.status.idle": "2025-04-10T07:25:33.438251Z",
     "shell.execute_reply": "2025-04-10T07:25:33.437028Z",
     "shell.execute_reply.started": "2025-04-10T07:22:33.703837Z"
    },
    "trusted": true
   },
   "outputs": [
    {
     "ename": "NameError",
     "evalue": "name 'plt' is not defined",
     "output_type": "error",
     "traceback": [
      "\u001b[31m---------------------------------------------------------------------------\u001b[39m",
      "\u001b[31mNameError\u001b[39m                                 Traceback (most recent call last)",
      "\u001b[36mCell\u001b[39m\u001b[36m \u001b[39m\u001b[32mIn[10]\u001b[39m\u001b[32m, line 2\u001b[39m\n\u001b[32m      1\u001b[39m \u001b[38;5;66;03m# Scatter plot of old vs new balance for destination \u001b[39;00m\n\u001b[32m----> \u001b[39m\u001b[32m2\u001b[39m \u001b[43mplt\u001b[49m.figure(figsize=(\u001b[32m10\u001b[39m, \u001b[32m6\u001b[39m)) \n\u001b[32m      3\u001b[39m sns.scatterplot(x=\u001b[33m'\u001b[39m\u001b[33moldbalanceDest\u001b[39m\u001b[33m'\u001b[39m, y=\u001b[33m'\u001b[39m\u001b[33mnewbalanceDest\u001b[39m\u001b[33m'\u001b[39m, hue=\u001b[33m'\u001b[39m\u001b[33misFraud\u001b[39m\u001b[33m'\u001b[39m, data=df) \n\u001b[32m      4\u001b[39m plt.title(\u001b[33m'\u001b[39m\u001b[33mOld Balance vs. New Balance (Destination)\u001b[39m\u001b[33m'\u001b[39m) \n",
      "\u001b[31mNameError\u001b[39m: name 'plt' is not defined"
     ]
    }
   ],
   "source": [
    "# Scatter plot of old vs new balance for destination \n",
    "plt.figure(figsize=(10, 6)) \n",
    "sns.scatterplot(x='oldbalanceDest', y='newbalanceDest', hue='isFraud', data=df) \n",
    "plt.title('Old Balance vs. New Balance (Destination)') \n",
    "plt.xlabel('Old Balance (Destination)') \n",
    "plt.ylabel('New Balance (Destination)')\n",
    "plt.show()"
   ]
  },
  {
   "cell_type": "code",
   "execution_count": null,
   "metadata": {
    "execution": {
     "iopub.execute_input": "2025-04-10T07:25:33.439959Z",
     "iopub.status.busy": "2025-04-10T07:25:33.439576Z",
     "iopub.status.idle": "2025-04-10T07:25:38.768256Z",
     "shell.execute_reply": "2025-04-10T07:25:38.766795Z",
     "shell.execute_reply.started": "2025-04-10T07:25:33.439913Z"
    },
    "trusted": true
   },
   "outputs": [],
   "source": [
    "# Compute balance differences\n",
    "df['balanceDiffOrig'] = df['oldbalanceOrg'] - df['newbalanceOrig'] \n",
    "df['balanceDiffDest'] = df['newbalanceDest'] - df['oldbalanceDest']\n",
    "\n",
    "# Boxplot of balance differences by fraud status\n",
    "plt.figure(figsize=(10, 6))\n",
    "sns.boxplot(x='isFraud', y='balanceDiffOrig', data=df)\n",
    "plt.title('Balance Difference (Origin) by Fraud Status')\n",
    "plt.xlabel('Fraud Status')\n",
    "plt.ylabel('Balance Difference (Origin)')\n",
    "plt.show()"
   ]
  },
  {
   "cell_type": "code",
   "execution_count": null,
   "metadata": {
    "execution": {
     "iopub.execute_input": "2025-04-10T07:25:38.770141Z",
     "iopub.status.busy": "2025-04-10T07:25:38.769757Z",
     "iopub.status.idle": "2025-04-10T07:25:41.551084Z",
     "shell.execute_reply": "2025-04-10T07:25:41.549772Z",
     "shell.execute_reply.started": "2025-04-10T07:25:38.770105Z"
    },
    "trusted": true
   },
   "outputs": [],
   "source": [
    "plt.figure(figsize=(10, 6))\n",
    "sns.boxplot(x='isFraud', y='balanceDiffDest', data=df)\n",
    "plt.title('Balance Difference (Destination) by Fraud Status')\n",
    "plt.xlabel('Fraud Status')\n",
    "plt.ylabel('Balance Difference (Destination)')\n",
    "plt.show()"
   ]
  },
  {
   "cell_type": "code",
   "execution_count": null,
   "metadata": {
    "execution": {
     "iopub.execute_input": "2025-04-10T07:25:41.553121Z",
     "iopub.status.busy": "2025-04-10T07:25:41.552627Z",
     "iopub.status.idle": "2025-04-10T07:25:53.703200Z",
     "shell.execute_reply": "2025-04-10T07:25:53.702053Z",
     "shell.execute_reply.started": "2025-04-10T07:25:41.553071Z"
    },
    "trusted": true
   },
   "outputs": [],
   "source": [
    "# Transaction count over time\n",
    "plt.figure(figsize=(10, 6))\n",
    "sns.lineplot(x='step', y='amount', hue='isFraud', data=df, ci=None)\n",
    "plt.title('Transaction Amount Over Time')\n",
    "plt.xlabel('Step (Hour)')\n",
    "plt.ylabel('Transaction Amount')\n",
    "plt.show()"
   ]
  },
  {
   "cell_type": "code",
   "execution_count": null,
   "metadata": {
    "execution": {
     "iopub.execute_input": "2025-04-10T07:25:53.704976Z",
     "iopub.status.busy": "2025-04-10T07:25:53.704579Z",
     "iopub.status.idle": "2025-04-10T07:25:54.227052Z",
     "shell.execute_reply": "2025-04-10T07:25:54.225698Z",
     "shell.execute_reply.started": "2025-04-10T07:25:53.704931Z"
    },
    "trusted": true
   },
   "outputs": [],
   "source": [
    "df['type'].value_counts()"
   ]
  },
  {
   "cell_type": "code",
   "execution_count": null,
   "metadata": {
    "execution": {
     "iopub.execute_input": "2025-04-10T07:25:54.228763Z",
     "iopub.status.busy": "2025-04-10T07:25:54.228356Z",
     "iopub.status.idle": "2025-04-10T07:25:55.541310Z",
     "shell.execute_reply": "2025-04-10T07:25:55.540071Z",
     "shell.execute_reply.started": "2025-04-10T07:25:54.228729Z"
    },
    "trusted": true
   },
   "outputs": [],
   "source": [
    "encoder = LabelEncoder()\n",
    "df['type'] = encoder.fit_transform(df['type'])\n",
    "df['type'].value_counts()"
   ]
  },
  {
   "cell_type": "code",
   "execution_count": null,
   "metadata": {
    "execution": {
     "iopub.execute_input": "2025-04-10T07:25:55.543514Z",
     "iopub.status.busy": "2025-04-10T07:25:55.542689Z",
     "iopub.status.idle": "2025-04-10T07:25:55.562702Z",
     "shell.execute_reply": "2025-04-10T07:25:55.561580Z",
     "shell.execute_reply.started": "2025-04-10T07:25:55.543473Z"
    },
    "trusted": true
   },
   "outputs": [],
   "source": [
    "df.head()"
   ]
  },
  {
   "cell_type": "code",
   "execution_count": null,
   "metadata": {
    "execution": {
     "iopub.execute_input": "2025-04-10T07:25:55.565031Z",
     "iopub.status.busy": "2025-04-10T07:25:55.564540Z",
     "iopub.status.idle": "2025-04-10T07:25:55.574994Z",
     "shell.execute_reply": "2025-04-10T07:25:55.573663Z",
     "shell.execute_reply.started": "2025-04-10T07:25:55.564996Z"
    },
    "trusted": true
   },
   "outputs": [],
   "source": [
    "features = ['step','amount','oldbalanceOrg','newbalanceOrig','oldbalanceDest','newbalanceDest','balanceDiffOrig','balanceDiffDest','type','isFlaggedFraud']\n",
    "target = 'isFraud'"
   ]
  },
  {
   "cell_type": "code",
   "execution_count": null,
   "metadata": {
    "execution": {
     "iopub.execute_input": "2025-04-10T07:25:55.576796Z",
     "iopub.status.busy": "2025-04-10T07:25:55.576442Z",
     "iopub.status.idle": "2025-04-10T07:25:55.797771Z",
     "shell.execute_reply": "2025-04-10T07:25:55.796639Z",
     "shell.execute_reply.started": "2025-04-10T07:25:55.576763Z"
    },
    "trusted": true
   },
   "outputs": [],
   "source": [
    "x = df[features]\n",
    "y = df[target]"
   ]
  },
  {
   "cell_type": "code",
   "execution_count": 7,
   "metadata": {
    "execution": {
     "iopub.execute_input": "2025-04-10T07:25:55.799321Z",
     "iopub.status.busy": "2025-04-10T07:25:55.799012Z",
     "iopub.status.idle": "2025-04-10T07:25:57.435767Z",
     "shell.execute_reply": "2025-04-10T07:25:57.434575Z",
     "shell.execute_reply.started": "2025-04-10T07:25:55.799291Z"
    },
    "trusted": true
   },
   "outputs": [
    {
     "ename": "NameError",
     "evalue": "name 'train_test_split' is not defined",
     "output_type": "error",
     "traceback": [
      "\u001b[31m---------------------------------------------------------------------------\u001b[39m",
      "\u001b[31mNameError\u001b[39m                                 Traceback (most recent call last)",
      "\u001b[36mCell\u001b[39m\u001b[36m \u001b[39m\u001b[32mIn[7]\u001b[39m\u001b[32m, line 1\u001b[39m\n\u001b[32m----> \u001b[39m\u001b[32m1\u001b[39m x_train, x_test, y_train, y_test = \u001b[43mtrain_test_split\u001b[49m(x, y, test_size=\u001b[32m0.3\u001b[39m, random_state=\u001b[32m42\u001b[39m)\n",
      "\u001b[31mNameError\u001b[39m: name 'train_test_split' is not defined"
     ]
    }
   ],
   "source": [
    "x_train, x_test, y_train, y_test = train_test_split(x, y, test_size=0.3, random_state=42)"
   ]
  },
  {
   "cell_type": "markdown",
   "metadata": {},
   "source": [
    "# KEY FEATURES OF XB BOOST"
   ]
  },
  {
   "cell_type": "markdown",
   "metadata": {},
   "source": [
    "\n",
    "# XGBoost Classifier: XGBoost stands for Extreme Gradient Boosting, and it is an optimized version of the Gradient Boosting Machine (GBM) technique. It's designed to be highly efficient, flexible, and portable, and it has become one of the most popular machine learning algorithms for structured/tabular data.\n",
    "\n"
   ]
  },
  {
   "cell_type": "markdown",
   "metadata": {},
   "source": [
    "# Boosting:XGBoost is a boosting algorithm that builds an ensemble of decision trees sequentially. Each tree tries to correct the errors of the previous one, resulting in a strong predictive model"
   ]
  },
  {
   "cell_type": "markdown",
   "metadata": {},
   "source": [
    "\n",
    "# Regularization:It includes L1 (Lasso) and L2 (Ridge) regularization to prevent overfitting, making it more robust than traditional GBM.\n"
   ]
  },
  {
   "cell_type": "markdown",
   "metadata": {},
   "source": [
    "\n",
    "# Tree Pruning:Uses a technique called \"max depth\" rather than \"max leaf nodes\" to prune trees. It also employs a heuristic called \"approximate greedy algorithm\" to find the best split.\n"
   ]
  },
  {
   "cell_type": "code",
   "execution_count": null,
   "metadata": {
    "execution": {
     "iopub.execute_input": "2025-04-10T07:25:57.437323Z",
     "iopub.status.busy": "2025-04-10T07:25:57.436976Z",
     "iopub.status.idle": "2025-04-10T07:26:20.485597Z",
     "shell.execute_reply": "2025-04-10T07:26:20.484404Z",
     "shell.execute_reply.started": "2025-04-10T07:25:57.437289Z"
    },
    "trusted": true
   },
   "outputs": [
    {
     "ename": "NameError",
     "evalue": "name 'xgb' is not defined",
     "output_type": "error",
     "traceback": [
      "\u001b[31m---------------------------------------------------------------------------\u001b[39m",
      "\u001b[31mNameError\u001b[39m                                 Traceback (most recent call last)",
      "\u001b[36mCell\u001b[39m\u001b[36m \u001b[39m\u001b[32mIn[8]\u001b[39m\u001b[32m, line 2\u001b[39m\n\u001b[32m      1\u001b[39m \u001b[38;5;66;03m# Train an XGBoost classifier \u001b[39;00m\n\u001b[32m----> \u001b[39m\u001b[32m2\u001b[39m model = \u001b[43mxgb\u001b[49m.XGBClassifier(n_estimators=\u001b[32m100\u001b[39m, max_depth=\u001b[32m5\u001b[39m, learning_rate=\u001b[32m0.1\u001b[39m) \n\u001b[32m      3\u001b[39m X_train, X_test, y_train, y_test = train_test_split(X, y, test_size=\u001b[32m0.2\u001b[39m)\n\u001b[32m      4\u001b[39m model.fit(x_train, y_train)\n",
      "\u001b[31mNameError\u001b[39m: name 'xgb' is not defined"
     ]
    }
   ],
   "source": [
    "# Train an XGBoost classifier \n",
    "model.fit(x_train, y_train)"
   ]
  },
  {
   "cell_type": "code",
   "execution_count": null,
   "metadata": {
    "execution": {
     "iopub.execute_input": "2025-04-10T07:26:20.487201Z",
     "iopub.status.busy": "2025-04-10T07:26:20.486778Z",
     "iopub.status.idle": "2025-04-10T07:26:23.705199Z",
     "shell.execute_reply": "2025-04-10T07:26:23.704223Z",
     "shell.execute_reply.started": "2025-04-10T07:26:20.487160Z"
    },
    "trusted": true
   },
   "outputs": [],
   "source": [
    "# Make predictions \n",
    "y_pred = model.predict(x_test) \n",
    "y_pred_proba = model.predict_proba(x_test)[:, 1] "
   ]
  },
  {
   "cell_type": "code",
   "execution_count": null,
   "metadata": {
    "execution": {
     "iopub.execute_input": "2025-04-10T07:26:23.706483Z",
     "iopub.status.busy": "2025-04-10T07:26:23.706167Z",
     "iopub.status.idle": "2025-04-10T07:26:27.708633Z",
     "shell.execute_reply": "2025-04-10T07:26:27.707489Z",
     "shell.execute_reply.started": "2025-04-10T07:26:23.706451Z"
    },
    "trusted": true
   },
   "outputs": [],
   "source": [
    "# Evaluate model \n",
    "print(classification_report(y_test, y_pred)) \n",
    "print(\"ROC-AUC Score:\", roc_auc_score(y_test,y_pred))\n",
    "print(\"accuracy:\",accuracy_score(y_test,y_pred))"
   ]
  },
  {
   "cell_type": "code",
   "execution_count": null,
   "metadata": {
    "execution": {
     "iopub.execute_input": "2025-04-10T07:26:27.710310Z",
     "iopub.status.busy": "2025-04-10T07:26:27.709965Z",
     "iopub.status.idle": "2025-04-10T07:26:28.018697Z",
     "shell.execute_reply": "2025-04-10T07:26:28.017618Z",
     "shell.execute_reply.started": "2025-04-10T07:26:27.710277Z"
    },
    "trusted": true
   },
   "outputs": [],
   "source": [
    "from xgboost import plot_importance\n",
    "# Plot feature importance \n",
    "plot_importance(model) \n",
    "plt.show()"
   ]
  },
  {
   "cell_type": "code",
   "execution_count": 9,
   "metadata": {
    "execution": {
     "iopub.execute_input": "2025-04-10T07:26:28.021134Z",
     "iopub.status.busy": "2025-04-10T07:26:28.020656Z",
     "iopub.status.idle": "2025-04-10T07:26:29.617914Z",
     "shell.execute_reply": "2025-04-10T07:26:29.617042Z",
     "shell.execute_reply.started": "2025-04-10T07:26:28.021097Z"
    },
    "trusted": true
   },
   "outputs": [
    {
     "ename": "ModuleNotFoundError",
     "evalue": "No module named 'joblib'",
     "output_type": "error",
     "traceback": [
      "\u001b[31m---------------------------------------------------------------------------\u001b[39m",
      "\u001b[31mModuleNotFoundError\u001b[39m                       Traceback (most recent call last)",
      "\u001b[36mCell\u001b[39m\u001b[36m \u001b[39m\u001b[32mIn[9]\u001b[39m\u001b[32m, line 1\u001b[39m\n\u001b[32m----> \u001b[39m\u001b[32m1\u001b[39m \u001b[38;5;28;01mimport\u001b[39;00m\u001b[38;5;250m \u001b[39m\u001b[34;01mjoblib\u001b[39;00m\n\u001b[32m      3\u001b[39m \u001b[38;5;66;03m# Save the model\u001b[39;00m\n\u001b[32m      4\u001b[39m joblib.dump(model, \u001b[33m'\u001b[39m\u001b[33mxgboost_fraud_model.pkl\u001b[39m\u001b[33m'\u001b[39m)\n",
      "\u001b[31mModuleNotFoundError\u001b[39m: No module named 'joblib'"
     ]
    }
   ],
   "source": [
    "import joblib\n",
    "\n",
    "# Save the model\n",
    "joblib.dump(model, 'xgboost_fraud_model.pkl')\n",
    "\n",
    "# Load the model\n",
    "loaded_model = joblib.load('xgboost_fraud_model.pkl')\n",
    "\n",
    "# Use the loaded model for predictions\n",
    "y_pred_loaded = loaded_model.predict(x_test)\n"
   ]
  }
 ],
 "metadata": {
  "kaggle": {
   "accelerator": "none",
   "dataSources": [
    {
     "datasetId": 2580326,
     "sourceId": 4398600,
     "sourceType": "datasetVersion"
    }
   ],
   "dockerImageVersionId": 30804,
   "isGpuEnabled": false,
   "isInternetEnabled": true,
   "language": "python",
   "sourceType": "notebook"
  },
  "kernelspec": {
   "display_name": "venv",
   "language": "python",
   "name": "python3"
  },
  "language_info": {
   "codemirror_mode": {
    "name": "ipython",
    "version": 3
   },
   "file_extension": ".py",
   "mimetype": "text/x-python",
   "name": "python",
   "nbconvert_exporter": "python",
   "pygments_lexer": "ipython3",
   "version": "3.13.2"
  }
 },
 "nbformat": 4,
 "nbformat_minor": 4
}
